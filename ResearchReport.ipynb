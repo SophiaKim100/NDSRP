{
  "nbformat": 4,
  "nbformat_minor": 0,
  "metadata": {
    "colab": {
      "provenance": [],
      "authorship_tag": "ABX9TyOYJUJWgdpMpzW4jeFTytGT",
      "include_colab_link": true
    },
    "kernelspec": {
      "name": "python3",
      "display_name": "Python 3"
    },
    "language_info": {
      "name": "python"
    }
  },
  "cells": [
    {
      "cell_type": "markdown",
      "metadata": {
        "id": "view-in-github",
        "colab_type": "text"
      },
      "source": [
        "<a href=\"https://colab.research.google.com/github/SophiaKim100/NDSRP/blob/main/ResearchReport.ipynb\" target=\"_parent\"><img src=\"https://colab.research.google.com/assets/colab-badge.svg\" alt=\"Open In Colab\"/></a>"
      ]
    },
    {
      "cell_type": "markdown",
      "source": [
        "#**Title**"
      ],
      "metadata": {
        "id": "YH_D6XvDEVYA"
      }
    },
    {
      "cell_type": "markdown",
      "source": [
        "# **Abstract**"
      ],
      "metadata": {
        "id": "4iiseRiUKINO"
      }
    },
    {
      "cell_type": "markdown",
      "source": [
        "# **Background**"
      ],
      "metadata": {
        "id": "p0GddDALDvfu"
      }
    },
    {
      "cell_type": "markdown",
      "source": [
        "# **Results**"
      ],
      "metadata": {
        "id": "T9qgEl8eDvy_"
      }
    },
    {
      "cell_type": "markdown",
      "source": [
        "# **Discussion**"
      ],
      "metadata": {
        "id": "_UoWub1eD-cv"
      }
    },
    {
      "cell_type": "markdown",
      "source": [
        "# **Code & Data Availability**"
      ],
      "metadata": {
        "id": "KuLcO1_aD--Y"
      }
    },
    {
      "cell_type": "markdown",
      "source": [
        "#**Acknowledgements**"
      ],
      "metadata": {
        "id": "_QJlrwqOD_Oy"
      }
    }
  ]
}