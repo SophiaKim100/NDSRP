{
  "nbformat": 4,
  "nbformat_minor": 0,
  "metadata": {
    "colab": {
      "provenance": [],
      "authorship_tag": "ABX9TyOphGDi071KoPZfc74EilT+",
      "include_colab_link": true
    },
    "kernelspec": {
      "name": "python3",
      "display_name": "Python 3"
    },
    "language_info": {
      "name": "python"
    }
  },
  "cells": [
    {
      "cell_type": "markdown",
      "metadata": {
        "id": "view-in-github",
        "colab_type": "text"
      },
      "source": [
        "<a href=\"https://colab.research.google.com/github/SophiaKim100/NDSRP/blob/main/ResearchReport.ipynb\" target=\"_parent\"><img src=\"https://colab.research.google.com/assets/colab-badge.svg\" alt=\"Open In Colab\"/></a>"
      ]
    },
    {
      "cell_type": "markdown",
      "source": [
        "# **Predicting Olympic Glory: How Height, Weight, and Age Influence Medal Outcomes**\n",
        "## An exploration of biometric traits as predictors of Olympic success"
      ],
      "metadata": {
        "id": "zKxarwNXDHn4"
      }
    },
    {
      "cell_type": "markdown",
      "source": [
        "# **Abstract**"
      ],
      "metadata": {
        "id": "4iiseRiUKINO"
      }
    },
    {
      "cell_type": "markdown",
      "source": [],
      "metadata": {
        "id": "0IecsTmHBGN5"
      }
    },
    {
      "cell_type": "markdown",
      "source": [
        "# **Background**"
      ],
      "metadata": {
        "id": "p0GddDALDvfu"
      }
    },
    {
      "cell_type": "markdown",
      "source": [
        "Olympic athletes represent the pinnacle of physical performance, and understanding the traits that contribue to medal-winning success has long fascinated researchers, coaches, and sports analysts. While factors like training, experience, and psychological resilience are difficult to quantify, biometric data-such as height, weight, and age- are readily available and offer a starting point for predictive analysis. This project explores whether these basic physical attributes can be used to predict an athlete's likelihood of winning an Olympic medal. Specifically, can height, weight, and age be used predict whether an Olympic athlete will win a medal? We believe that athletes who win Olympic medals will, on average, be taller, heavier, and slightly older than those who do not, and these features will offer modest predictive power in classification models."
      ],
      "metadata": {
        "id": "rfg6p3vOBHVa"
      }
    },
    {
      "cell_type": "markdown",
      "source": [
        "# **Results**"
      ],
      "metadata": {
        "id": "T9qgEl8eDvy_"
      }
    },
    {
      "cell_type": "markdown",
      "source": [
        "Over the course of this project, I analyzed 9 subsets of Olympic athlete data, comparing biometric traits of medalists and non-medalists across different seasons and genders with over 150 blocks of code. To keep this report focused and impactful, I’ve selected a few subsets that produced the most and least insightful results."
      ],
      "metadata": {
        "id": "mNyBWWB-Kenh"
      }
    },
    {
      "cell_type": "markdown",
      "source": [],
      "metadata": {
        "id": "AHQzP9KzKrXz"
      }
    },
    {
      "cell_type": "markdown",
      "source": [
        "# **Discussion**"
      ],
      "metadata": {
        "id": "_UoWub1eD-cv"
      }
    },
    {
      "cell_type": "markdown",
      "source": [
        "# **Code & Data Availability**"
      ],
      "metadata": {
        "id": "KuLcO1_aD--Y"
      }
    },
    {
      "cell_type": "markdown",
      "source": [
        "All code used for data cleaning, analysis, and visualization is available in my GitHub repository: https://github.com/SophiaKim100/NDSRP\n",
        "\n",
        "The dataset used in this project was sourced from publicly available Olympic athlete records compiled by Kaggle: https://www.kaggle.com/datasets/heesoo37/120-years-of-olympic-history-athletes-and-results"
      ],
      "metadata": {
        "id": "ONWhi7vHDdwr"
      }
    },
    {
      "cell_type": "markdown",
      "source": [
        "#**Acknowledgements**"
      ],
      "metadata": {
        "id": "_QJlrwqOD_Oy"
      }
    },
    {
      "cell_type": "markdown",
      "source": [
        "I would like to acknowledge Luz Melo for their guidance throughout the project. I'm also grateful to Sarah Parker, Noah, and Gerald for their feedback on early drafts and helping lecture us on Python coding. Lastly, I appreciate Kaggle and the creators of the Olympic athlete dataset for making good and accessible data available for us to analyze."
      ],
      "metadata": {
        "id": "m__KNYyNCdtT"
      }
    }
  ]
}