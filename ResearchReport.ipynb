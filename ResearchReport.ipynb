{
  "nbformat": 4,
  "nbformat_minor": 0,
  "metadata": {
    "colab": {
      "provenance": [],
      "authorship_tag": "ABX9TyMV8X31+4rud2uFHLmncB5v",
      "include_colab_link": true
    },
    "kernelspec": {
      "name": "python3",
      "display_name": "Python 3"
    },
    "language_info": {
      "name": "python"
    }
  },
  "cells": [
    {
      "cell_type": "markdown",
      "metadata": {
        "id": "view-in-github",
        "colab_type": "text"
      },
      "source": [
        "<a href=\"https://colab.research.google.com/github/SophiaKim100/NDSRP/blob/main/ResearchReport.ipynb\" target=\"_parent\"><img src=\"https://colab.research.google.com/assets/colab-badge.svg\" alt=\"Open In Colab\"/></a>"
      ]
    },
    {
      "cell_type": "markdown",
      "source": [
        "# **Predicting Olympic Glory: How Height, Weight, and Age Influence Medal Outcomes**\n",
        "## An exploration of biometric traits as predictors of Olympic success"
      ],
      "metadata": {
        "id": "zKxarwNXDHn4"
      }
    },
    {
      "cell_type": "markdown",
      "source": [
        "# **Abstract**"
      ],
      "metadata": {
        "id": "4iiseRiUKINO"
      }
    },
    {
      "cell_type": "markdown",
      "source": [
        "This study investigates whether biometric data--specifically height, weight, and age--can predict the likelihood of an Olympic athlete winning a medal. Understanding these relationships could provide insights into the physical attributes most associated with elite athletic performance. Data was drawn from Olympic records, separated into nine subsets by season (Summer/Winter/All) and gender (Male/Female/All). Logistic regression models with standardized variables were trained to classify medal-winning status. Model accuracy ranged from 77.82% to 82.16%, with Winter All Male achieving the highest score and All Season All Female the lowest. Coefficients varied across subsets, suggesting that the predictive role of each biometric differs depending on gender and season--for example, weight was strongly positive for Winter All Female (0.24) but weaker for Winter All Male (0.04). Age showed notable predictive power in some groups (e.g., Winter All Female, 0.23) but minimal in others. Results indicate that biometric predictors are not uniformly influential across athlete groups. These findings highlight the importance of context--season and gender--when applying biometric data in sports analytics."
      ],
      "metadata": {
        "id": "0IecsTmHBGN5"
      }
    },
    {
      "cell_type": "markdown",
      "source": [
        "# **Background**"
      ],
      "metadata": {
        "id": "p0GddDALDvfu"
      }
    },
    {
      "cell_type": "markdown",
      "source": [
        "Olympic athletes represent the pinnacle of physical performance, and understanding the traits that contribue to medal-winning success has long fascinated researchers, coaches, and sports analysts. While factors like training, experience, and psychological resilience are difficult to quantify, biometric data-such as height, weight, and age- are readily available and offer a starting point for predictive analysis. This project explores whether these basic physical attributes can be used to predict an athlete's likelihood of winning an Olympic medal. Specifically, can height, weight, and age be used predict whether an Olympic athlete will win a medal? We believe that athletes who win Olympic medals will, on average, be taller, heavier, and slightly older than those who do not, and these features will offer modest predictive power in classification models."
      ],
      "metadata": {
        "id": "rfg6p3vOBHVa"
      }
    },
    {
      "cell_type": "markdown",
      "source": [
        "# **Results**"
      ],
      "metadata": {
        "id": "T9qgEl8eDvy_"
      }
    },
    {
      "cell_type": "markdown",
      "source": [
        "Over the course of this project, I analyzed 9 subsets of Olympic athlete data, comparing biometric traits of medalists and non-medalists across different seasons and genders with over 150 blocks of code. To keep this report focused and impactful, I’ve selected a few subsets that produced the most and least insightful results."
      ],
      "metadata": {
        "id": "mNyBWWB-Kenh"
      }
    },
    {
      "cell_type": "markdown",
      "source": [
        "### **Figure 1**"
      ],
      "metadata": {
        "id": "AHQzP9KzKrXz"
      }
    },
    {
      "cell_type": "markdown",
      "source": [],
      "metadata": {
        "id": "qtW0FS24mXeH"
      }
    },
    {
      "cell_type": "markdown",
      "source": [
        "### **Figure 2**"
      ],
      "metadata": {
        "id": "U93yY8GVmXuf"
      }
    },
    {
      "cell_type": "markdown",
      "source": [],
      "metadata": {
        "id": "1k-Gtq5QmYU1"
      }
    },
    {
      "cell_type": "markdown",
      "source": [
        "### **Figure 3**"
      ],
      "metadata": {
        "id": "_breDeIlmYkh"
      }
    },
    {
      "cell_type": "markdown",
      "source": [
        "# **Discussion**"
      ],
      "metadata": {
        "id": "_UoWub1eD-cv"
      }
    },
    {
      "cell_type": "markdown",
      "source": [
        "The data suggests that biometric traits such as height, weight, and age can predict Olympic medal outcomes to a moderate degree, but their influence is not consistent across all athlete groups. Season and gender appear to shape how these traits contribute to success, with the strongest and most consistent effects observed in smaller, more specialized subsets like Winter All Female. This implies that the predictive power of biometric data is likely sport and context-specific rather than universal.\n",
        "\n",
        "These findings are important because they challenge the assumption that there is a single “ideal” body profile for Olympic success. Instead, they highlight that optimal attributes may vary greatly depending on the sport’s physical demands and competitive environment. In the broader context of sports science, this supports the notion that talent identification and training should consider both athlete characteristics and the context in which they compete.\n",
        "\n",
        "One unexpected result was the relatively weak or even negative coefficient for height in Winter All Gender, suggesting that taller athletes may not always have an advantage in certain winter events. This may reflect the diversity of sports within the Winter Olympics, where physical requirements range from explosive power to agility and aerodynamics.\n",
        "\n",
        "The results partially support the original hypothesis: biometric data can aid in predicting medal outcomes, but the strength and direction of these relationships are far from uniform. Limitations of the study include the exclusion of skill-based and psychological factors, the aggregation of multiple sports into broad categories, and potential biases in recorded biometric data.\n",
        "\n",
        "Future work could involve separating data by specific sports rather than broad seasonal groupings, incorporating additional variables such as training history or performance metrics, and testing more complex machine learning models to capture nonlinear relationships. This could refine our understanding of how physical traits contribute to Olympic success and enhance predictive modeling for athlete development."
      ],
      "metadata": {
        "id": "t55iH7nbmgBm"
      }
    },
    {
      "cell_type": "markdown",
      "source": [
        "# **Code & Data Availability**"
      ],
      "metadata": {
        "id": "KuLcO1_aD--Y"
      }
    },
    {
      "cell_type": "markdown",
      "source": [
        "All code used for data cleaning, analysis, and visualization is available in my GitHub repository: https://github.com/SophiaKim100/NDSRP\n",
        "\n",
        "The dataset used in this project was sourced from publicly available Olympic athlete records compiled by Kaggle: https://www.kaggle.com/datasets/heesoo37/120-years-of-olympic-history-athletes-and-results"
      ],
      "metadata": {
        "id": "ONWhi7vHDdwr"
      }
    },
    {
      "cell_type": "markdown",
      "source": [
        "#**Acknowledgements**"
      ],
      "metadata": {
        "id": "_QJlrwqOD_Oy"
      }
    },
    {
      "cell_type": "markdown",
      "source": [
        "I would like to acknowledge Luz Melo for their guidance throughout the project. I'm also grateful to Sarah Parker, Noah, and Gerald for their feedback on early drafts and helping lecture us on Python coding. Lastly, I appreciate Kaggle and the creators of the Olympic athlete dataset for making good and accessible data available for us to analyze."
      ],
      "metadata": {
        "id": "m__KNYyNCdtT"
      }
    }
  ]
}